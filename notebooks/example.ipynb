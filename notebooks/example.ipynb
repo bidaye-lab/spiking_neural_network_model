{
 "cells": [
  {
   "cell_type": "code",
   "execution_count": null,
   "metadata": {},
   "outputs": [],
   "source": [
    "from model import run_exp\n",
    "import utils as utl"
   ]
  },
  {
   "attachments": {},
   "cell_type": "markdown",
   "metadata": {},
   "source": [
    "# computational set up"
   ]
  },
  {
   "cell_type": "code",
   "execution_count": null,
   "metadata": {},
   "outputs": [],
   "source": [
    "# set up environment\n",
    "path_comp = './2023_03_23_completeness_630_final.csv'\n",
    "path_con = './2023_03_23_connectivity_630_final.parquet'\n",
    "path_res = './results/example/'\n",
    "\n",
    "config = {\n",
    "    'path_comp'         : path_comp, \n",
    "    'path_con'          : path_con, \n",
    "    'path_res'          : path_res,     # store results here\n",
    "    'n_proc'            : 4,            # number of CPUs to use, -1 uses all available CPU\n",
    "}"
   ]
  },
  {
   "cell_type": "code",
   "execution_count": null,
   "metadata": {},
   "outputs": [],
   "source": [
    "# custon neuron names\n",
    "path_name = './flywire_ids_630.xlsx'\n",
    "\n",
    "# sheet names of the xls file to include\n",
    "sheets_pair = [ # pair of neurons (left+right per row)\n",
    "    'stop',\n",
    "    'walk',\n",
    "    'walk_outputs',\n",
    "    ]\n",
    "\n",
    "sheets_single = [ # single neurons (one per row)\n",
    "    # 'sugar', \n",
    "    # 'ovidn', \n",
    "    # 'bitter', \n",
    "    ]\n",
    "\n",
    "name2flyid = utl.create_name_dict(path_name, path_comp, sheets_pair, sheets_single)"
   ]
  },
  {
   "cell_type": "code",
   "execution_count": null,
   "metadata": {},
   "outputs": [],
   "source": [
    "# lists of neuron groups\n",
    "l_p9 = ['P9_l', 'P9_r']\n",
    "l_bb = ['BB_r', 'BB_l']\n",
    "l_cdn = ['P9-cDN1_l', 'P9-cDN1_r']"
   ]
  },
  {
   "attachments": {},
   "cell_type": "markdown",
   "metadata": {},
   "source": [
    "# run experiments"
   ]
  },
  {
   "cell_type": "code",
   "execution_count": null,
   "metadata": {},
   "outputs": [],
   "source": [
    "# P9 activation\n",
    "instructions = [ \n",
    "    (0, 'stim', l_p9), \n",
    "    (1, 'end', [])\n",
    "    ]\n",
    "\n",
    "run_exp(exp_name='P9', exp_inst=instructions, name2flyid=name2flyid, **config, force_overwrite=True)"
   ]
  },
  {
   "cell_type": "code",
   "execution_count": null,
   "metadata": {},
   "outputs": [],
   "source": [
    "# more complex instuctions: \n",
    "# (i) activate P9 \n",
    "# (ii) after some delay, activate BB \n",
    "# (iii) after some more delay, silence BB\n",
    "\n",
    "# caveate\n",
    "# - silenced neurons cannot be unsilenced\n",
    "# - silenced neurons will still spike, if they also have a Poisson input (stim)\n",
    "\n",
    "instructions = [ \n",
    "    (0, 'stim', l_p9), \n",
    "    (0.25, 'stim', l_bb),\n",
    "    (0.75, 'slnc', l_bb),\n",
    "    (1, 'end', []),\n",
    "    ]\n",
    "run_exp(exp_name='P9+BB_slnc', exp_inst=instructions, name2flyid=name2flyid, **config, force_overwrite=True)"
   ]
  },
  {
   "cell_type": "code",
   "execution_count": null,
   "metadata": {},
   "outputs": [],
   "source": [
    "# changing model parameters\n",
    "from model import default_params as params\n",
    "from brian2 import Hz\n",
    "\n",
    "instructions = [ \n",
    "    (0, 'stim', l_p9), \n",
    "    (1, 'end', [])\n",
    "    ]\n",
    "\n",
    "params['r_poi'] = 250 * Hz\n",
    "\n",
    "run_exp(exp_name='P9_ultra', exp_inst=instructions, name2flyid=name2flyid, **config, params=params, force_overwrite=True)"
   ]
  },
  {
   "cell_type": "code",
   "execution_count": null,
   "metadata": {},
   "outputs": [],
   "source": [
    "# use 2 different stimulation frequencies\n",
    "# frequency for stim2 is controlled via params['r_poi2']\n",
    "\n",
    "instructions = [ \n",
    "    (0, 'stim', l_p9), \n",
    "    (0, 'stim2', l_bb),\n",
    "    (1, 'end', []),\n",
    "    ]\n",
    "\n",
    "run_exp(exp_name='P9+BB2', exp_inst=instructions, name2flyid=name2flyid, **config, force_overwrite=True)"
   ]
  },
  {
   "cell_type": "markdown",
   "metadata": {},
   "source": [
    "# Process results"
   ]
  },
  {
   "cell_type": "code",
   "execution_count": null,
   "metadata": {},
   "outputs": [],
   "source": [
    "# choose experiments to load\n",
    "outputs = [\n",
    "    './results/example/P9+BB_slnc.parquet',\n",
    "    './results/example/P9.parquet',\n",
    "]\n",
    "\n",
    "# load spike times, calculate rate + standard deviation\n",
    "df_spkt = utl.load_exps(outputs)\n",
    "df_rate, df_std = utl.get_rate(df_spkt, duration=1)\n",
    "\n",
    "# convert IDs to custom names, if possible\n",
    "df_rate = utl.rename_index(df_rate, name2flyid)\n",
    "df_std = utl.rename_index(df_std, name2flyid)\n",
    "\n",
    "# save as spreadsheets\n",
    "utl.save_xls(df_rate, './results/example/rate.xlsx')\n",
    "utl.save_xls(df_std, './results/example/rate_std.xlsx')"
   ]
  },
  {
   "cell_type": "code",
   "execution_count": null,
   "metadata": {},
   "outputs": [],
   "source": [
    "# raster plots\n",
    "neu = l_p9 + l_bb + l_cdn\n",
    "utl.plot_raster(df_spkt, neu, name2flyid=name2flyid, xlims=(0, 1))"
   ]
  },
  {
   "cell_type": "code",
   "execution_count": null,
   "metadata": {},
   "outputs": [],
   "source": [
    "# firing rates\n",
    "utl.plot_rate(df_spkt, neu, xlims=(0, 1), name2flyid=name2flyid)"
   ]
  },
  {
   "cell_type": "code",
   "execution_count": null,
   "metadata": {},
   "outputs": [],
   "source": [
    "# select top 20 neurons\n",
    "top20 = df_rate.sort_values(by='P9', ascending=False).head(20)\n",
    "top20"
   ]
  },
  {
   "cell_type": "code",
   "execution_count": null,
   "metadata": {},
   "outputs": [],
   "source": [
    "# plot heatmap\n",
    "utl.plot_rate_heatmap(df_spkt, top20.index, xlims=(0, 1), name2flyid=name2flyid, do_zscore=False)"
   ]
  },
  {
   "attachments": {},
   "cell_type": "markdown",
   "metadata": {},
   "source": [
    "# Graph representation"
   ]
  },
  {
   "cell_type": "code",
   "execution_count": null,
   "metadata": {},
   "outputs": [],
   "source": [
    "# load connectome into graph\n",
    "G = utl.get_full_graph(path_comp, path_con)\n",
    "print(len(G.nodes))"
   ]
  },
  {
   "cell_type": "code",
   "execution_count": null,
   "metadata": {},
   "outputs": [],
   "source": [
    "# select subgraph based on simulation results\n",
    "output = './results/example/P9.parquet'\n",
    "utl.write_graph(G, output, name2flyid=name2flyid)"
   ]
  }
 ],
 "metadata": {
  "kernelspec": {
   "display_name": "brian2",
   "language": "python",
   "name": "python3"
  },
  "language_info": {
   "codemirror_mode": {
    "name": "ipython",
    "version": 3
   },
   "file_extension": ".py",
   "mimetype": "text/x-python",
   "name": "python",
   "nbconvert_exporter": "python",
   "pygments_lexer": "ipython3",
   "version": "3.10.6"
  }
 },
 "nbformat": 4,
 "nbformat_minor": 2
}
