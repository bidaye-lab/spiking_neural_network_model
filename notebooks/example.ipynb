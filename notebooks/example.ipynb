{
 "cells": [
  {
   "cell_type": "code",
   "execution_count": null,
   "metadata": {
    "lines_to_next_cell": 2
   },
   "outputs": [],
   "source": [
    "%load_ext autoreload\n",
    "%autoreload 2\n",
    "\n",
    "from src import (\n",
    "    datahandler as dah,\n",
    "    model as mod,\n",
    "    graphs as gra,\n",
    "    visualize as vis,\n",
    "    analysis as ana,\n",
    ")"
   ]
  },
  {
   "attachments": {},
   "cell_type": "markdown",
   "metadata": {},
   "source": [
    "This workflow serves as an example of how to use the spiking neural network\n",
    "model to explore the connectome.\n",
    "\n",
    "It is helpful to be familiar with\n",
    "[basic python data structures](https://neuropsychology.github.io/NeuroKit/resources/learn_python.html)\n",
    "as well as\n",
    "[pandas DataFrames](https://pandas.pydata.org/docs/user_guide/10min.html).\n",
    "\n",
    "# Loading the data\n",
    "\n",
    "## Connectome data\n",
    "To construct the spiking neural network model based on connectome data,\n",
    "we use two data structures:\n",
    "- `ds_ids: pd.Series`\\\n",
    "    A pandas Series with index increasing from 0...N and neuron IDs.\n",
    "    The index is in the following refered to as the canonical ID, the values are the database IDs. Under the hood, `brian2` uses the canonical IDs to refer to neurons.\n",
    "- `df_con: pd.DataFrame`\\\n",
    "    A pandas DataFrame with columns\n",
    "    - `pre: int` canonical ID of presynnaptic neuron\n",
    "    - `post: int` canonical ID of postsynaptic neuron\n",
    "    - `w: int` synnapse number including sign (positive for excitatory, negative for inhibitory)\n",
    "\n",
    "To create the model for other connectomes, the data needs to be loaded into these data structures."
   ]
  },
  {
   "cell_type": "code",
   "execution_count": null,
   "metadata": {},
   "outputs": [],
   "source": [
    "# set up environment\n",
    "path_comp = \"../data/2023_03_23_completeness_630_final.csv\"\n",
    "path_con = \"../data/2023_03_23_connectivity_630_final.parquet\"\n",
    "path_res = \"../results/example/\"\n",
    "\n",
    "# load flywire connectome\n",
    "ds_ids = dah.load_flywire_ids(path_comp)\n",
    "df_con = dah.load_flywire_connectivity(path_con, ds_ids)"
   ]
  },
  {
   "cell_type": "markdown",
   "id": "ad59f71d",
   "metadata": {},
   "source": [
    "## Custom neuron names\n",
    "Custom neuron names used in the lab can be edited in this\n",
    "[spread sheet in the OneDrive](https://maxplanckflorida-my.sharepoint.com/:x:/g/personal/murakamik_mpfi_org/EeX_NEJ2kaVMvcHdbHPZkPcBG9IwOMWwkEingWCFmnv_SA?e=azcslm).\n",
    "The shared document is intended as the reference for the entire lab.\n",
    "The file `flywire_ids_630.xlsx` in this git repository may be outdated.\n",
    "\n",
    "There are two types of spread sheets:\n",
    "- pairs: If the sister neurons are known, flywire IDs for each of them is entered in a separate column. The suffixes `_r` and `_l` will be automatically appended to the neuron names.\n",
    "- single: If the sister neuron is not known,\n",
    "there is one flywire ID column. The name is used as is.\n",
    "\n",
    "Please make sure to follow the consenus in the lab about naming conventions when assigning names for neurons here."
   ]
  },
  {
   "cell_type": "code",
   "execution_count": null,
   "metadata": {},
   "outputs": [],
   "source": [
    "# custon neuron names\n",
    "path_name = \"../data/flywire_ids_630.xlsx\"\n",
    "\n",
    "# sheet names of the xls file to include\n",
    "sheets_pair = [  # pair of neurons (left+right per row)\n",
    "    \"stop\",\n",
    "    \"walk\",\n",
    "    \"walk_outputs\",\n",
    "]\n",
    "\n",
    "sheets_single = [  # single neurons (one per row)\n",
    "    # 'sugar',\n",
    "    # 'ovidn',\n",
    "    # 'bitter',\n",
    "]\n",
    "\n",
    "name2id = dah.create_name_dict(path_name, ds_ids, sheets_pair, sheets_single)"
   ]
  },
  {
   "cell_type": "markdown",
   "id": "c01764c3",
   "metadata": {},
   "source": [
    "# run experiments\n",
    "## Using custom neuron names\n",
    "Having defined intuitive custom neuron names allows us to use these instead of the complicated database IDs to refer to neurons\n",
    "in our simulations. Below, we collect some of the neurons we want to excite or silence, e.g., `l_p9 = ['P9_l', 'P9_r']`.\n",
    "\n",
    "If we use custom neuron names, we need to also pass the `name2id` dictionary to the `run_exp` function.\n",
    "\n",
    "## Using multiple CPUs\n",
    "The computational load can be distributed over multiple CPU threads.\n",
    "To choose the number of threads, set `n_procs` to a number not higher than available on your computer.\n",
    "More threads will speed up the computation, but also increase memory usage.\n",
    "\n",
    "We collect these settings in the `run_exp_kw_args` dictionary to pass them more concisely to the `run_exp` function."
   ]
  },
  {
   "cell_type": "code",
   "execution_count": null,
   "metadata": {},
   "outputs": [],
   "source": [
    "# lists of neuron groups\n",
    "l_p9 = [\"P9_l\", \"P9_r\"]\n",
    "l_bb = [\"BB_r\", \"BB_l\"]\n",
    "l_cdn = [\"P9-cDN1_l\", \"P9-cDN1_r\"]\n",
    "\n",
    "# settings to apply in all following simulations\n",
    "run_exp_kw_args = {\n",
    "    \"ds_ids\": ds_ids,  # neuron database IDs\n",
    "    \"df_con\": df_con,  # connectivity data\n",
    "    \"path_res\": path_res,  # store results here\n",
    "    \"n_proc\": 4,  # number of CPUs to use, -1 uses all available CPU\n",
    "    \"name2id\": name2id,  # dictionary to map neuron names to ids\n",
    "    \"force_overwrite\": True,  # if true, overwrite existing results\n",
    "}"
   ]
  },
  {
   "cell_type": "code",
   "execution_count": null,
   "id": "5a6081d5",
   "metadata": {},
   "outputs": [],
   "source": [
    "# P9 activation\n",
    "instructions = [(0, \"stim\", l_p9), (1, \"end\", [])]\n",
    "\n",
    "mod.run_exp(exp_name=\"P9\", exp_inst=instructions, **run_exp_kw_args)"
   ]
  },
  {
   "cell_type": "code",
   "execution_count": null,
   "id": "3aedbc3a",
   "metadata": {},
   "outputs": [],
   "source": [
    "# more complex instuctions:\n",
    "# (i) activate P9\n",
    "# (ii) after some delay, activate BB\n",
    "# (iii) after some more delay, silence BB\n",
    "\n",
    "# caveate\n",
    "# - silenced neurons cannot be unsilenced\n",
    "# - silenced neurons will still spike, if they also have a Poisson input (stim)\n",
    "\n",
    "instructions = [\n",
    "    (0, \"stim\", l_p9),\n",
    "    (0.25, \"stim\", l_bb),\n",
    "    (0.75, \"slnc\", l_bb),\n",
    "    (1, \"end\", []),\n",
    "]\n",
    "mod.run_exp(exp_name=\"P9+BB_slnc\", exp_inst=instructions, **run_exp_kw_args)"
   ]
  },
  {
   "cell_type": "code",
   "execution_count": null,
   "id": "8fbd39c0",
   "metadata": {},
   "outputs": [],
   "source": [
    "# changing model parameters\n",
    "from src.model import default_params as params\n",
    "from brian2 import Hz\n",
    "\n",
    "instructions = [(0, \"stim\", l_p9), (1, \"end\", [])]\n",
    "\n",
    "params[\"r_poi\"] = 250 * Hz\n",
    "\n",
    "mod.run_exp(exp_name=\"P9_ultra\", exp_inst=instructions, **run_exp_kw_args)"
   ]
  },
  {
   "cell_type": "code",
   "execution_count": null,
   "id": "b48b51fd",
   "metadata": {},
   "outputs": [],
   "source": [
    "# use 2 different stimulation frequencies\n",
    "# frequency for stim2 is controlled via params['r_poi2']\n",
    "\n",
    "instructions = [\n",
    "    (0, \"stim\", l_p9),\n",
    "    (0, \"stim2\", l_bb),\n",
    "    (1, \"end\", []),\n",
    "]\n",
    "\n",
    "mod.run_exp(exp_name=\"P9+BB2\", exp_inst=instructions, **run_exp_kw_args)"
   ]
  },
  {
   "attachments": {},
   "cell_type": "markdown",
   "metadata": {},
   "source": [
    "# Process results\n",
    "\n",
    "The results from different simulations can be combined and visualized in different ways.\n",
    "Below, we show how to\n",
    "- save the average rate across trials and standard deviation\n",
    "- create spike raster plots\n",
    "- plot line plots and heat maps with firing rate changes throughout the simulation"
   ]
  },
  {
   "cell_type": "code",
   "execution_count": null,
   "metadata": {},
   "outputs": [],
   "source": [
    "# choose experiments to load\n",
    "outputs = [\n",
    "    \"../results/example/P9+BB_slnc.parquet\",\n",
    "    \"../results/example/P9.parquet\",\n",
    "]\n",
    "\n",
    "# load spike times, calculate rate + standard deviation\n",
    "df_spkt = ana.load_exps(outputs)\n",
    "df_rate, df_std = ana.get_rate(df_spkt, duration=1)\n",
    "\n",
    "# convert IDs to custom names, if possible\n",
    "df_rate = ana.rename_index(df_rate, name2id)\n",
    "df_std = ana.rename_index(df_std, name2id)\n",
    "\n",
    "# save as spreadsheets\n",
    "ana.save_xls(df_rate, \"../results/example/rate.xlsx\")\n",
    "ana.save_xls(df_std, \"../results/example/rate_std.xlsx\")"
   ]
  },
  {
   "cell_type": "markdown",
   "id": "64dcf867",
   "metadata": {},
   "source": [
    "## Plots using spike times in `df_spkt`"
   ]
  },
  {
   "cell_type": "code",
   "execution_count": null,
   "metadata": {},
   "outputs": [],
   "source": [
    "# raster plots\n",
    "neu = l_p9 + l_bb + l_cdn\n",
    "vis.plot_raster(df_spkt, neu, name2id=name2id, xlims=(0, 1))"
   ]
  },
  {
   "cell_type": "code",
   "execution_count": null,
   "metadata": {},
   "outputs": [],
   "source": [
    "# firing rates\n",
    "vis.plot_rate(df_spkt, neu, name2id=name2id, xlims=(0, 1))"
   ]
  },
  {
   "cell_type": "code",
   "execution_count": null,
   "metadata": {},
   "outputs": [],
   "source": [
    "# select top 20 neurons\n",
    "top20 = df_rate.sort_values(by=\"P9\", ascending=False).head(20)\n",
    "top20"
   ]
  },
  {
   "cell_type": "code",
   "execution_count": null,
   "metadata": {},
   "outputs": [],
   "source": [
    "# plot heatmap\n",
    "vis.plot_rate_heatmap(\n",
    "    df_spkt, top20.index, xlims=(0, 1), name2id=name2id, do_zscore=False\n",
    ")"
   ]
  },
  {
   "attachments": {},
   "cell_type": "markdown",
   "metadata": {},
   "source": [
    "## Plots using average firing rates in `df_rate`"
   ]
  },
  {
   "cell_type": "code",
   "execution_count": null,
   "metadata": {},
   "outputs": [],
   "source": [
    "# select only neurons with custom names\n",
    "named_neurons = df_rate.index.isin(name2id)\n",
    "df_rate_named = df_rate.loc[named_neurons]\n",
    "\n",
    "# plot firing rate matrix\n",
    "vis.firing_rate_matrix(df_rate_named)"
   ]
  },
  {
   "cell_type": "code",
   "execution_count": null,
   "metadata": {},
   "outputs": [],
   "source": [
    "# subtract P9 firing rate from all neurons\n",
    "df_change = df_rate.subtract(df_rate.loc[:, \"P9\"], axis=0)\n",
    "\n",
    "# ignore absolute changes in firing rate smaller than some threshold\n",
    "df_change = df_change[(df_change.abs() >= 5).any(axis=1)]\n",
    "\n",
    "# plot difference matrix\n",
    "vis.firing_rate_matrix(df_change, rate_change=True)"
   ]
  },
  {
   "cell_type": "markdown",
   "id": "6b84e723",
   "metadata": {},
   "source": [
    "# Graph representation\n",
    "The results from a simulation can be visualized as a graph. The nodes are neurons and the edges are synapse counts. Using a graph visualization software, the node size can be scaled to represent the firing rate and the edge size to the synapse count.\n",
    "\n",
    "Graph files are created in two steps:\n",
    "1. The full connectome is loaded in a `DiGraph` object using [NetworkX](https://networkx.org/).\n",
    "2. The subset of neurons active in a given experiment is selected from the full graph and written to disk.\n",
    "\n",
    "The resulting `*.gexf` file can be loaded for visualization with [Gephi](https://gephi.org/),\n",
    "or the `*.gml` file with [Cytoscape](https://cytoscape.org/)."
   ]
  },
  {
   "cell_type": "code",
   "execution_count": null,
   "id": "3aa124c1",
   "metadata": {},
   "outputs": [],
   "source": [
    "# load connectome into graph\n",
    "G = gra.get_full_graph(ds_ids, df_con)\n",
    "print(len(G.nodes))"
   ]
  },
  {
   "cell_type": "code",
   "execution_count": null,
   "id": "4f1c2ecf",
   "metadata": {},
   "outputs": [],
   "source": [
    "# select subgraph based on simulation results\n",
    "output = \"../results/example/P9.parquet\"\n",
    "gra.write_graph(G, output, name2id=name2id)"
   ]
  }
 ],
 "metadata": {
  "jupytext": {
   "custom_cell_magics": "kql"
  },
  "kernelspec": {
   "display_name": "brian2",
   "language": "python",
   "name": "python3"
  },
  "language_info": {
   "codemirror_mode": {
    "name": "ipython",
    "version": 3
   },
   "file_extension": ".py",
   "mimetype": "text/x-python",
   "name": "python",
   "nbconvert_exporter": "python",
   "pygments_lexer": "ipython3",
   "version": "3.11.7"
  }
 },
 "nbformat": 4,
 "nbformat_minor": 2
}
