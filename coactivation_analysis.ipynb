{
 "cells": [
  {
   "cell_type": "code",
   "execution_count": null,
   "metadata": {},
   "outputs": [],
   "source": [
    "# from google.colab import drive\n",
    "# drive.mount('/content/drive/')\n",
    "# %cd '/content/drive/MyDrive/fly_model_shared/brian_pipeline/'"
   ]
  },
  {
   "cell_type": "code",
   "execution_count": null,
   "metadata": {},
   "outputs": [],
   "source": [
    "import pandas as pd\n",
    "import numpy as np\n",
    "import matplotlib.pylab as plt\n",
    "import seaborn as sns\n",
    "sns.set_style('whitegrid')\n",
    "\n",
    "from pathlib import Path\n",
    "import pickle\n",
    "\n",
    "# files\n",
    "pkl_map = './data/name_mappings_530.pickle' # name mappings\n",
    "xls_exps = './data/exp_groups.xlsx' # definition of experiment groups\n",
    "pkl_glob = Path('./data/exp_activation/').glob('default_*.pickle') # wildcard matching multiple outputs\n",
    "\n",
    "# helper functions\n",
    "def load_exp(pkl_glob):\n",
    "    'load experiments from pickle and feather'\n",
    "\n",
    "    meta_dict, spk_dict = dict(), dict()\n",
    "\n",
    "    for pkl in pkl_glob:\n",
    "        # exp name\n",
    "        exp = pkl.name.replace('.pickle', '').replace('default_', '')\n",
    "\n",
    "        # load metadata from pickle\n",
    "        with open(pkl, 'rb') as f:\n",
    "            data = pickle.load(f) \n",
    "        meta_dict[exp] = data\n",
    "\n",
    "        # load spike times from feather\n",
    "        fth = pkl.with_suffix('.feather')\n",
    "        spk_dict[exp] = pd.read_feather(fth)\n",
    "\n",
    "    return meta_dict, spk_dict"
   ]
  },
  {
   "cell_type": "markdown",
   "metadata": {},
   "source": [
    "# Load results"
   ]
  },
  {
   "cell_type": "code",
   "execution_count": null,
   "metadata": {},
   "outputs": [],
   "source": [
    "# load name mappings\n",
    "with open(pkl_map, 'rb') as f:\n",
    "    flyid2i, flyid2name, i2flyid, i2name, name2flyid, name2i = pickle.load(f)\n",
    "\n",
    "\n",
    "# get two dictionaries: meta data and spike dataframes\n",
    "meta_dict, spk_dict = load_exp(pkl_glob) \n",
    "\n",
    "# create another dict with list of excited neurons per experiment\n",
    "exc_dict = { i: [ flyid2name[k] for k in j['exc_i'] ] for i, j in meta_dict.items() }\n",
    "\n",
    "# experimental setup TODO: do not hard code\n",
    "t_sim = 1           # duration of trial in s \n",
    "n_run = 30          # number of runs\n",
    "\n",
    "# print info\n",
    "print('Loaded {} experiments...'.format(len(meta_dict)))\n",
    "print('... ' + ' '.join([i for i in meta_dict.keys()]))\n",
    "print()\n",
    "print('Loaded {} name mapping... (showing first 100)'.format(len(name2flyid)))\n",
    "print('... ' + ' '.join([i for i in name2flyid.keys()][:100]) + ' ...')"
   ]
  },
  {
   "cell_type": "markdown",
   "metadata": {},
   "source": [
    "# Process data"
   ]
  },
  {
   "cell_type": "code",
   "execution_count": null,
   "metadata": {},
   "outputs": [],
   "source": [
    "# collect spike times of all experiments in one dataframe\n",
    "df = pd.DataFrame()\n",
    "\n",
    "for exp in spk_dict: # cycle through experiments\n",
    "    df_exp = spk_dict[exp] # df for individual experiment\n",
    "    \n",
    "    #  sum up spike events\n",
    "    df_exp = df_exp.dropna(how='all') # select only rows containing spikes\n",
    "    ds = df_exp.apply(lambda x: np.concatenate(x.dropna(how='any')), axis=1) # concatenate spk times, ignore nan\n",
    "    ds.name = exp # dataseries name will convert to dataframe column\n",
    "    df = pd.concat([df, ds], axis=1)\n",
    "\n",
    "# rename brian ids to flywire/custom names\n",
    "df = df.rename(index=i2flyid).rename(index=flyid2name) # (1) flywire ids and (2) custom names\n",
    "df.index = df.index.astype(str) # represent flywire IDs as str, not int\n",
    "\n",
    "# sort indixes: named first\n",
    "idx_n = [ i for i in name2flyid.keys() if i in df.index] # named neurons\n",
    "idx_i = [ i for i in df.index if i not in name2flyid.keys() ] # flywire ids\n",
    "idx_i.sort() # sort flywire ids\n",
    "df = df.loc[idx_n + idx_i, :] # first named neurons, then flywire ids\n",
    "\n",
    "# convert counts to rates\n",
    "df_rate = df.applymap( lambda x: len(x) / ( n_run * t_sim ), na_action='ignore' )\n",
    "df_rate = df_rate.fillna(0) # replace nan with 0, necessary for differences later\n",
    "\n",
    "# save as xlsx\n",
    "with pd.ExcelWriter('./results/all_experiments.xlsx', mode='w', engine='xlsxwriter') as w:\n",
    "    df_rate.to_excel(w, sheet_name='all_experiments')\n",
    "\n",
    "    # formatting in the xlsx file\n",
    "    wb = w.book\n",
    "    fmt = wb.add_format({'num_format': '#,##0.0'}) # set floating point display precision here (excel format)\n",
    "    for _, ws in w.sheets.items():\n",
    "        ws.set_column(1, 1, 10, fmt)\n",
    "        ws.freeze_panes(1, 1)"
   ]
  },
  {
   "cell_type": "markdown",
   "metadata": {},
   "source": [
    "# save and plot results"
   ]
  },
  {
   "cell_type": "code",
   "execution_count": null,
   "metadata": {},
   "outputs": [],
   "source": [
    "# helper functions\n",
    "def remove_exc(df):\n",
    "    'remove Poission inputs for a given experiment (requires exp_dict to be defined)'\n",
    "    for exp in df:\n",
    "        for exc in exc_dict[exp]:\n",
    "            df.loc[exc, exp] = np.nan\n",
    "    return df\n",
    "\n",
    "def prune_df(df, exps, only_named=True, exclude_exc=True):\n",
    "    '''returns dataframe\n",
    "        only rows with not only 0 are kept\n",
    "        only_named keeps only neurons that are defined in name2flyid dict\n",
    "        exclude_exc removes values that are Poisson inputs\n",
    "    '''\n",
    "\n",
    "    # select experiments from dataframe\n",
    "    df = df.loc[:, exps]\n",
    "\n",
    "    # replace Poisson inputs with nan\n",
    "    if exclude_exc:\n",
    "        df = remove_exc(df)\n",
    "        \n",
    "    #  drop rows with only 0\n",
    "    idx = df.replace(to_replace=0, value=np.nan).dropna(how='all').index # indices of rows that are not only 0/nan\n",
    "    df = df.loc[idx, :]\n",
    "      \n",
    "    if only_named: # keep only neurons with explicit names\n",
    "        idx = [ i for i in name2flyid.keys() if i in df.index] # named neurons\n",
    "        df = df.loc[idx, :]\n",
    "    \n",
    "    return df\n",
    "\n",
    "def diff_df(df, exps, only_named=True):\n",
    "    '''returns rate dataframe with difference relative to the first column\n",
    "        first column is unchanged\n",
    "        only rows with not only 0 are kept\n",
    "        only_named keeps only neurons that are defined in name2flyid dict\n",
    "    '''\n",
    "    df = prune_df(df, exps, only_named=only_named)\n",
    "\n",
    "    # dataframe with rate differences\n",
    "    df_d = pd.DataFrame(index=df.index)\n",
    "\n",
    "    # first column: control\n",
    "    df_d.loc[:, exps[0]] = df.loc[:, exps[0]]\n",
    "\n",
    "    # other columns: difference to control\n",
    "    for exp in exps[1:]:\n",
    "        df_d.loc[:, exp] = df.loc[:, exp].fillna(0) - df.loc[:, exps[0]].fillna(0)\n",
    "\n",
    "    return df_d\n",
    "\n",
    "def plot_heatmap_abs(df, exps, only_named=True, path=None):\n",
    "    'plot and save (optional) firing rates for experiments defined in exps'\n",
    "\n",
    "    df = prune_df(df_rate, exps, only_named=only_named)\n",
    "\n",
    "    x, y = df.shape\n",
    "    fig, ax = plt.subplots(figsize=(y, x/3+1))\n",
    "\n",
    "    ax.set_title('Absolute firing rate [Hz]')\n",
    "    sns.heatmap(\n",
    "        ax=ax, data=df, square=True,\n",
    "        xticklabels=True, yticklabels=True,\n",
    "        annot=True, fmt='.1f', annot_kws={'size': 'small'},\n",
    "        cbar=False, cmap='binary',\n",
    "    )\n",
    "    ax.tick_params(axis='x', labeltop=True, labelbottom=True, labelrotation=90)\n",
    "\n",
    "    fig.tight_layout()\n",
    "    \n",
    "    if path:\n",
    "        fig.savefig(path)\n",
    "\n",
    "\n",
    "def plot_heatmap_diff(df, n, exps, only_named=True, path=None):\n",
    "    'plot heatmap where first column is the control and all other are plottet relative to control'\n",
    "\n",
    "    df = diff_df(df_rate, exps=[n] + exps, only_named=only_named)\n",
    "\n",
    "    x, y = df.shape\n",
    "    fig, axarr = plt.subplots(ncols=2, gridspec_kw={'width_ratios': (8+1, 8+y)}, figsize=(y+2, x/3+2))\n",
    "    \n",
    "    ax = axarr[0]\n",
    "    ax.set_title('Absolute\\nfiring rate [Hz]')\n",
    "    sns.heatmap(\n",
    "        ax=ax, data=df.loc[:, [n]], square=True,\n",
    "        xticklabels=True, yticklabels=True,\n",
    "        annot=True, fmt='.1f', annot_kws={'size': 'small'},\n",
    "        cbar=False, cmap='binary',\n",
    "    )\n",
    "    ax.tick_params(axis='x', labeltop=True, labelbottom=True, labelrotation=90)\n",
    "\n",
    "    ax = axarr[1]\n",
    "    ax.set_title('Change in\\nfiring rate [Hz]')\n",
    "    sns.heatmap(\n",
    "        ax=ax, data=df.loc[:, exps], square=True, \n",
    "        xticklabels=True, yticklabels=True,\n",
    "        annot=True, fmt='.1f', annot_kws={'size': 'small'},\n",
    "        cbar=False, cmap='bwr_r', center=0\n",
    "    )\n",
    "    ax.tick_params(axis='y', labelright=True, labelleft=False, labelrotation=0)\n",
    "    ax.tick_params(axis='x', labeltop=True, labelbottom=True, labelrotation=90)\n",
    "\n",
    "    fig.tight_layout()\n",
    "\n",
    "    if path:\n",
    "        fig.savefig(path)\n",
    "    \n",
    "    return fig\n",
    "\n",
    "def save_xls(df_rate, exp_sets, path, diff=False):\n",
    "\n",
    "    with pd.ExcelWriter(path, mode='w', engine='xlsxwriter') as w:\n",
    "        for n, exps in exp_sets.items():\n",
    "            # select exps from df_rate\n",
    "            if diff:\n",
    "                df = diff_df(df_rate, exps=[n] + exps,only_named=False)\n",
    "            else:\n",
    "                df = prune_df(df_rate, exps, only_named=False)\n",
    "\n",
    "            # write dataframes as first an second sheet in file\n",
    "            df.to_excel(w, sheet_name=n)\n",
    "\n",
    "        # formatting in the xlsx file\n",
    "        wb = w.book\n",
    "        fmt = wb.add_format({'num_format': '#,##0.0'}) # set floating point display precision here (excel format)\n",
    "        for _, ws in w.sheets.items():\n",
    "            ws.set_column(1, len(df.columns), 10, fmt)\n",
    "            ws.freeze_panes(1, 1)"
   ]
  },
  {
   "cell_type": "markdown",
   "metadata": {},
   "source": [
    "## define groups of experiments"
   ]
  },
  {
   "cell_type": "code",
   "execution_count": null,
   "metadata": {},
   "outputs": [],
   "source": [
    "# load experiment set definitions\n",
    "exp_gr = pd.read_excel(xls_exps,  sheet_name=None ) # definition of experiement sets\n",
    "for i in exp_gr.keys():\n",
    "    d = exp_gr[i].to_dict(orient='list')\n",
    "    for k, v in d.items():\n",
    "        d[k] = [ j for j in d[k] if type(j) == str]\n",
    "    exp_gr[i] = d"
   ]
  },
  {
   "cell_type": "markdown",
   "metadata": {},
   "source": [
    "## save spread sheets"
   ]
  },
  {
   "cell_type": "code",
   "execution_count": null,
   "metadata": {},
   "outputs": [],
   "source": [
    "# control\n",
    "save_xls(df_rate, exp_gr['control'], './results/control/spike_rates.xlsx')\n",
    "# walk-stop coactivation\n",
    "save_xls(df_rate, exp_gr['walk-stop'], './results/walk-stop/spike_rates.xlsx', diff=True)\n",
    "# walk-walk coactivation\n",
    "save_xls(df_rate, exp_gr['walk-walk'], './results/walk-walk/spike_rates.xlsx', diff=True)\n",
    "# sensory-walk coactivation\n",
    "save_xls(df_rate, exp_gr['sensory-walk'], './results/sensory-walk/spike_rates.xlsx', diff=True)\n",
    "# walk-sensory coactivation\n",
    "save_xls(df_rate, exp_gr['walk-sensory'], './results/walk-sensory/spike_rates.xlsx', diff=True)"
   ]
  },
  {
   "cell_type": "markdown",
   "metadata": {},
   "source": [
    "## plot heatmaps"
   ]
  },
  {
   "cell_type": "code",
   "execution_count": null,
   "metadata": {},
   "outputs": [],
   "source": [
    "# control\n",
    "plt.ioff()  # only save, but do not show plots\n",
    "for n, exps in exp_gr['control'].items():\n",
    "    plot_heatmap_abs(df_rate, exps, only_named=True, path='./results/control/{}.png'.format(n))"
   ]
  },
  {
   "cell_type": "code",
   "execution_count": null,
   "metadata": {},
   "outputs": [],
   "source": [
    "# walk-stop\n",
    "plt.ioff()  # only save, but do not show plots\n",
    "for n, exps in exp_gr['walk-stop'].items():\n",
    "    plot_heatmap_diff(df_rate, n, exps, only_named=True, path='./results/walk-stop/{}.png'.format(n))"
   ]
  },
  {
   "cell_type": "code",
   "execution_count": null,
   "metadata": {},
   "outputs": [],
   "source": [
    "# walk-walk\n",
    "plt.ioff()  # only save, but do not show plots\n",
    "for n, exps in exp_gr['walk-walk'].items():\n",
    "    plot_heatmap_diff(df_rate, n, exps, only_named=True, path='./results/walk-walk/{}.png'.format(n))"
   ]
  },
  {
   "cell_type": "code",
   "execution_count": null,
   "metadata": {},
   "outputs": [],
   "source": [
    "# sensory-walk\n",
    "plt.ioff()  # only save, but do not show plots\n",
    "for n, exps in exp_gr['sensory-walk'].items():\n",
    "    plot_heatmap_diff(df_rate, n, exps, only_named=True, path='./results/sensory-walk/{}.png'.format(n))"
   ]
  },
  {
   "cell_type": "code",
   "execution_count": null,
   "metadata": {},
   "outputs": [],
   "source": [
    "# walk-sensory\n",
    "plt.ioff()  # only save, but do not show plots\n",
    "for n, exps in exp_gr['walk-sensory'].items():\n",
    "    plot_heatmap_diff(df_rate, n, exps, only_named=True, path='./results/walk-sensory/{}.png'.format(n))"
   ]
  }
 ],
 "metadata": {
  "kernelspec": {
   "display_name": "Python 3.10.6 ('brian2')",
   "language": "python",
   "name": "python3"
  },
  "language_info": {
   "codemirror_mode": {
    "name": "ipython",
    "version": 3
   },
   "file_extension": ".py",
   "mimetype": "text/x-python",
   "name": "python",
   "nbconvert_exporter": "python",
   "pygments_lexer": "ipython3",
   "version": "3.10.6 | packaged by conda-forge | (main, Oct  7 2022, 20:14:50) [MSC v.1916 64 bit (AMD64)]"
  },
  "orig_nbformat": 4,
  "vscode": {
   "interpreter": {
    "hash": "f712171cd029edbbd692b0a936868c14f87f303b10b4c999b2c120d80f113a52"
   }
  }
 },
 "nbformat": 4,
 "nbformat_minor": 2
}
