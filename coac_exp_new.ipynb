{
 "cells": [
  {
   "cell_type": "code",
   "execution_count": 40,
   "metadata": {},
   "outputs": [
    {
     "name": "stdout",
     "output_type": "stream",
     "text": [
      "The autoreload extension is already loaded. To reload it, use:\n",
      "  %reload_ext autoreload\n"
     ]
    }
   ],
   "source": [
    "%load_ext autoreload\n",
    "%autoreload 2\n",
    "from exc_model_530 import run_exp, load_names\n",
    "\n",
    "config = {\n",
    "    'path_out'  : './tmp/', # output folder\n",
    "    'path_name' : './data/name_mappings_530.pickle', # file with neuron name definitions\n",
    "    'path_comp' : './data/2022_11_22_completeness_materialization_530_final.csv', # completeness file\n",
    "    'path_con'  : './data/2022_11_22_connectivity_530_final.csv', # connectivity file\n",
    "}\n",
    "\n",
    "names = load_names(config['path_name'])"
   ]
  },
  {
   "cell_type": "code",
   "execution_count": 38,
   "metadata": {},
   "outputs": [
    {
     "name": "stdout",
     "output_type": "stream",
     "text": [
      ">>> Experiment:     P9\n",
      "    Output files:   tmp\\model_530_P9.feather\n",
      "                    tmp\\model_530_P9.pickle\n",
      "    Exited neurons: P9_l P9_r\n"
     ]
    }
   ],
   "source": [
    "run_exp('P9', ['P9_l', 'P9_r'], **config)"
   ]
  },
  {
   "cell_type": "code",
   "execution_count": null,
   "metadata": {},
   "outputs": [],
   "source": []
  }
 ],
 "metadata": {
  "kernelspec": {
   "display_name": "brian2",
   "language": "python",
   "name": "python3"
  },
  "language_info": {
   "codemirror_mode": {
    "name": "ipython",
    "version": 3
   },
   "file_extension": ".py",
   "mimetype": "text/x-python",
   "name": "python",
   "nbconvert_exporter": "python",
   "pygments_lexer": "ipython3",
   "version": "3.10.6"
  },
  "orig_nbformat": 4,
  "vscode": {
   "interpreter": {
    "hash": "f712171cd029edbbd692b0a936868c14f87f303b10b4c999b2c120d80f113a52"
   }
  }
 },
 "nbformat": 4,
 "nbformat_minor": 2
}
