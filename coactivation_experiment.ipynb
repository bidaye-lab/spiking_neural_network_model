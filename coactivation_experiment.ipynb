{
 "cells": [
  {
   "cell_type": "code",
   "execution_count": null,
   "metadata": {},
   "outputs": [],
   "source": [
    "# from google.colab import drive\n",
    "# drive.mount('/content/drive/')\n",
    "# %cd '/content/drive/MyDrive/fly_model_shared/brian_pipeline/'"
   ]
  },
  {
   "cell_type": "code",
   "execution_count": null,
   "metadata": {},
   "outputs": [],
   "source": [
    "import pandas as pd\n",
    "import pickle\n",
    "\n",
    "# from brian2 import NeuronGroup, Synapses, PoissonInput, SpikeMonitor, Network\n",
    "# from brian2 import mV, ms, Hz, Mohm, uF"
   ]
  },
  {
   "cell_type": "markdown",
   "metadata": {},
   "source": [
    "# Load data"
   ]
  },
  {
   "cell_type": "code",
   "execution_count": null,
   "metadata": {},
   "outputs": [],
   "source": [
    "# load neuron data\n",
    "df_comp = pd.read_csv('./data/2022_11_22_completeness_materialization_530_final.csv', index_col = 0) # neuron ids and excitation type\n",
    "df_con = pd.read_csv('./data/2022_11_22_connectivity_530_final.csv', index_col = 0) # connectivity\n",
    "\n",
    "# load name mappings\n",
    "with open('./data/name_mappings_530.pickle', 'rb') as f:\n",
    "    flyid2i, flyid2name, i2flyid, i2name, name2flyid, name2i = pickle.load(f)"
   ]
  },
  {
   "cell_type": "markdown",
   "metadata": {},
   "source": [
    "# Define models"
   ]
  },
  {
   "cell_type": "code",
   "execution_count": null,
   "metadata": {},
   "outputs": [],
   "source": [
    "#                           # Kakaria and de Bivort 2017 https://doi.org/10.3389/fnbeh.2017.00008\n",
    "#                           # refereneces therein, e.g. Hodgkin and Huxley 1952\n",
    "v_0     = -52 * mV          # resting potential\n",
    "v_rst   = -52 * mV          # reset potential after spike\n",
    "v_th    = -45 * mV          # threshold for spiking\n",
    "r_mbr   = 10. * Mohm        # membrane resistance\n",
    "c_mbr   = .002 * uF         # membrane capacitance \n",
    "t_mbr   = c_mbr * r_mbr     # membrane time scale\n",
    "\n",
    "#                           # Jürgensen et al https://doi.org/10.1088/2634-4386/ac3ba6\n",
    "tau     = 5 * ms            # time constant (this is the excitatory one, the inhibitory is 10 ms)\n",
    "\n",
    "#                           # Lazar et at https://doi.org/10.7554/eLife.62362\n",
    "#                           # they cite Kakaria and de Bivort 2017, but those have used 2 ms\n",
    "t_rfc   = 2.2 * ms          # refractory period\n",
    "\n",
    "#                           # Paul et al 2015 doi: 10.3389/fncel.2015.00029\n",
    "t_dly   = 1.8*ms            # delay for changes in post-synaptic neuron\n",
    "\n",
    "#                           # adjusted arbitrarily\n",
    "w_syn   = .275 * mV         # weight per synapse (note: modulated by exponential decay)\n",
    "r_poi   = 150*Hz            # rate of the Poisson input\n",
    "w_poi   = w_syn*250         # strength of Poisson\n",
    "\n",
    "#                           # equations for neurons\n",
    "eqs = '''\n",
    "dv/dt = (x - (v - v_0)) / t_mbr : volt (unless refractory)\n",
    "dx/dt = -x / tau                : volt (unless refractory) \n",
    "rfc                             : second\n",
    "'''\n",
    "eq_th   = 'v > v_th'        # condition for spike\n",
    "eq_rst  = 'v = v_rst; w = 0; x = 0 * mV' # rules when spike \n",
    "\n",
    "def poi(neu, names, rate=r_poi):\n",
    "    'creates a list of PoissonInput objects for a list of neuron names and NeuronGroup neu'\n",
    "    l = []\n",
    "    for n in names:\n",
    "        i = name2i[n]\n",
    "        p = PoissonInput(target=neu[i], target_var='v', N=1, rate=rate, weight=w_poi)\n",
    "        neu[i].rfc = 0 * ms # no refractory period for Poisson targets\n",
    "        l.append(p)\n",
    "        \n",
    "    return l, neu\n",
    "\n",
    "def default_model():\n",
    "    '''create default model for neurons and synapses from flywire data\n",
    "    relies on equations and parameters defined above\n",
    "    returns NeuronGroup, Synapses\n",
    "    '''\n",
    "    \n",
    "    neu = NeuronGroup( # create neurons\n",
    "        N=len(df_comp),\n",
    "        model=eqs,\n",
    "        method='linear',\n",
    "        threshold=eq_th,\n",
    "        reset=eq_rst,\n",
    "        refractory='rfc',\n",
    "        name='default_neurons', \n",
    "    )\n",
    "    neu.v = v_0 # initialize values\n",
    "    neu.x = 0\n",
    "    neu.rfc = t_rfc\n",
    "\n",
    "    # create synapses\n",
    "    syn = Synapses(neu, neu, 'w : volt', on_pre='x += w', delay=t_dly, name='default_synapses')\n",
    "\n",
    "    # connect synapses\n",
    "    i_pre = df_con.loc[:, 'Presynaptic_Index'].values\n",
    "    i_post = df_con.loc[:, 'Postsynaptic_Index'].values\n",
    "    syn.connect(i=i_pre, j=i_post)\n",
    "\n",
    "    # define connection weight\n",
    "    syn.w = df_con.loc[:,\"Excitatory x Connectivity\"].values * w_syn\n",
    "\n",
    "    # object to record spikes\n",
    "    spk_mon = SpikeMonitor(neu) \n",
    "\n",
    "    return neu, syn, spk_mon"
   ]
  },
  {
   "cell_type": "markdown",
   "metadata": {},
   "source": [
    "# Experiments"
   ]
  },
  {
   "cell_type": "markdown",
   "metadata": {},
   "source": [
    "## define experiment"
   ]
  },
  {
   "cell_type": "code",
   "execution_count": null,
   "metadata": {},
   "outputs": [],
   "source": [
    "# experimental setup\n",
    "t_sim = 1000 * ms   # duration of trial\n",
    "n_run = 30          # number of runs\n",
    "\n",
    "# helper functions\n",
    "def save_spk(i_run, spk_mon, df):\n",
    "    '''write spike times to dataframe\n",
    "    creates a new column for each run'''\n",
    "\n",
    "    spk_trn = {k: v for k, v in spk_mon.spike_trains().items() if len(v)} # select only non-empty spike trains\n",
    "    df.loc[:, 'run_{}'.format(i_run) ] = pd.Series(spk_trn) # add to dataframe\n",
    "\n",
    "    return df.copy() # return copy do avoid dataframe fragmentation\n",
    "\n",
    "def run_default_exp(exp, exc):\n",
    "    '''run default experiment\n",
    "    supply name (exp) and list of neuron names to excite (exc)'''\n",
    "\n",
    "    out_fth = './data/exp_activation/default_{}.feather'.format(exp)\n",
    "    out_pkl = './data/exp_activation/default_{}.pickle'.format(exp)    \n",
    "\n",
    "    print('>>> Experiment:     {}'.format(exp))\n",
    "    print('    Output files:   {}'.format(out_fth))\n",
    "    print('                    {}'.format(out_pkl))\n",
    "    print('    Exited neurons: {}'.format(' '.join(exc)))\n",
    "\n",
    "    neu, syn, spk_mon = default_model() # get default network\n",
    "    poi_inp, neu = poi(neu, exc) # define Poisson input for excitation\n",
    "    net = Network(neu, syn, spk_mon, *poi_inp)  # define network\n",
    "    net.store() # store initial state\n",
    "\n",
    "    df_spk = pd.DataFrame(index=i2flyid.keys()) # empty dataframe to collect spike times\n",
    "    for i in range(n_run):\n",
    "        # run\n",
    "        net.restore() # restore initial state\n",
    "        \n",
    "        net.run(duration=t_sim) # run simulation\n",
    "\n",
    "        # save spike times\n",
    "        df_spk = save_spk(i, spk_mon, df_spk)\n",
    "\n",
    "    # store spike times\n",
    "    df_spk.to_feather(out_fth)\n",
    "\n",
    "    # store metadata\n",
    "    meta_data = {\n",
    "        'exp':      exp,\n",
    "        'exc':      exc,\n",
    "        'exc_i':    [name2flyid[i] for i in exc], \n",
    "        't_sim':    t_sim,\n",
    "        'n_run':    n_run,\n",
    "    }\n",
    "    with open(out_pkl, 'wb') as f:\n",
    "        pickle.dump(meta_data, f)"
   ]
  },
  {
   "cell_type": "code",
   "execution_count": null,
   "metadata": {},
   "outputs": [],
   "source": [
    "# from brian2 import prefs, set_device, device\n",
    "from joblib import Parallel, delayed, parallel_backend\n",
    "import os\n",
    "%load_ext autoreload\n",
    "%autoreload 2\n",
    "from utils import run\n",
    "\n",
    "def save_spk(spk_mon):\n",
    "\n",
    "    spk_trn = {k: v for k, v in spk_mon.spike_trains().items() if len(v)} \n",
    "    return spk_trn\n",
    "    return pd.Series(spk_trn)\n",
    "\n",
    "# def run(exc): \n",
    "#     pid = os.getpid()\n",
    "\n",
    "#     # cache_dir = os.path.expanduser(f'~/.cython/brian-pid-{os.getpid()}')\n",
    "#     # prefs.codegen.runtime.cython.cache_dir = cache_dir\n",
    "#     # prefs.codegen.runtime.cython.multiprocess_safe = False\n",
    "#     # set_device('cpp_standalone', directory=None)\n",
    "\n",
    "#     # neu, syn, spk_mon = default_model() \n",
    "#     # poi_inp, neu = poi(neu, exc)\n",
    "#     # net = Network(neu, syn, spk_mon, *poi_inp)  \n",
    "\n",
    "#     # net.run(duration=1000*ms) \n",
    "    \n",
    "#     # x = save_spk(spk_mon)\n",
    "\n",
    "#     # device.reinit()\n",
    "\n",
    "#     return pid\n",
    "    \n",
    "def run_default_exp(exp, exc):\n",
    "\n",
    "    # np = 10\n",
    "    inps = [ exc for _ in range(30) ]\n",
    "    with parallel_backend('loky', n_jobs=20):\n",
    "        res = Parallel()(map(delayed(run), inps))\n",
    "\n",
    "    # inps = [ exc for _ in range(20) ]\n",
    "    # res = Parallel(n_jobs=10, batch_size=1)(map(delayed(run), inps))\n",
    "        \n",
    "    return res\n",
    "\n",
    "res = run_default_exp('P9', ['P9_l', 'P9_r'] ) # P9\n",
    "res"
   ]
  },
  {
   "cell_type": "markdown",
   "metadata": {},
   "source": [
    "## define neuron groups"
   ]
  },
  {
   "cell_type": "code",
   "execution_count": null,
   "metadata": {},
   "outputs": [],
   "source": [
    "# lists of neuron groups\n",
    "# walk neurons\n",
    "l_p9 =      ['P9_l', 'P9_r'] \n",
    "l_mdn =     ['MDN_a_l', 'MDN_a_r', 'MDN_b_l', 'MDN_b_r']\n",
    "l_bpn1 =    [ i for i in name2i.keys() if i.startswith('BPN_1') ]\n",
    "l_bpn2 =    [ i for i in name2i.keys() if i.startswith('BPN_2') ]\n",
    "l_bpn3 =    [ i for i in name2i.keys() if i.startswith('BPN_3') ]\n",
    "l_bpn4 =    [ i for i in name2i.keys() if i.startswith('BPN_4') ]\n",
    "l_bpn = l_bpn1 + l_bpn2 + l_bpn3 + l_bpn4\n",
    "\n",
    "# stop neurons\n",
    "l_bb =      ['BB_r', 'BB_l'] \n",
    "l_fg =      ['FG_r', 'FG_l']\n",
    "l_man1 =    ['MAN-1_r', 'MAN-1_l']\n",
    "l_stop1 =   ['STOP-1_a_r', 'STOP-1_a_l', 'STOP-1_b_r', 'STOP-1_b_l', 'STOP-1_c_r', 'STOP-1_c_l']\n",
    "\n",
    "# sensory neurons\n",
    "l_sugarr =  [ i for i in name2i.keys() if i.startswith('sugar_r_') ] # sugar\n",
    "l_sugarl =  [ i for i in name2i.keys() if i.startswith('sugar_l_') ]\n",
    "l_ovidn =   [ i for i in name2i.keys() if i.startswith('OviDN_') ] # OviDNs\n",
    "l_bitterr = [ i for i in name2i.keys() if i.startswith('bitter_r_') ] # bitter\n",
    "l_bitterl = [ i for i in name2i.keys() if i.startswith('bitter_l_') ]\n",
    "l_waterr =  [ i for i in name2i.keys() if i.startswith('water_r_') ] # water\n",
    "l_waterl =  [ i for i in name2i.keys() if i.startswith('water_l_') ]\n",
    "l_joe =     [ i for i in name2i.keys() if i.startswith('JO_E') ] # JO E\n",
    "l_jof =     [ i for i in name2i.keys() if i.startswith('JO_F') ] # JO E\n",
    "l_eye =     [ i for i in name2i.keys() if i.startswith('eye_bristle_') ] # eye bristle"
   ]
  },
  {
   "cell_type": "markdown",
   "metadata": {},
   "source": [
    "## stop activation"
   ]
  },
  {
   "cell_type": "code",
   "execution_count": null,
   "metadata": {},
   "outputs": [],
   "source": [
    "run_default_exp('FG', l_fg) # FG\n",
    "\n",
    "run_default_exp('BB', l_bb) # BB\n",
    "\n",
    "run_default_exp('MAN', l_man1) # MAN-1\n",
    "\n",
    "run_default_exp('STOP-1', l_stop1) # STOP-1\n",
    "\n",
    "# estimated time: 15 min"
   ]
  },
  {
   "cell_type": "markdown",
   "metadata": {},
   "source": [
    "## walk activation"
   ]
  },
  {
   "cell_type": "code",
   "execution_count": null,
   "metadata": {},
   "outputs": [],
   "source": [
    "# run_default_exp('P9', l_p9) # P9\n",
    "\n",
    "# run_default_exp('MDN', l_mdn) # MDN\n",
    "\n",
    "run_default_exp('BPN__', l_bpn)  # all\n",
    "\n",
    "# run_default_exp('BPN1', l_bpn1) # BPN type 1 \n",
    "# run_default_exp('BPN2', l_bpn2) # BPN type 2 \n",
    "# run_default_exp('BPN3', l_bpn3) # BPN type 3 !!! missing IDs !!!\n",
    "# run_default_exp('BPN4', l_bpn4) # BPN type 4 \n",
    "# run_default_exp('BPN1+2',  l_bpn1 + l_bpn2) # two types\n",
    "# run_default_exp('BPN1+3',  l_bpn1 + l_bpn3)\n",
    "# run_default_exp('BPN1+4',  l_bpn1 + l_bpn4)\n",
    "# run_default_exp('BPN2+3',  l_bpn2 + l_bpn3)\n",
    "# run_default_exp('BPN2+4',  l_bpn2 + l_bpn4)\n",
    "# run_default_exp('BPN3+4',  l_bpn3 + l_bpn4)\n",
    "# run_default_exp('BPN1+2+3',  l_bpn1 + l_bpn2 + l_bpn3) # three types\n",
    "# run_default_exp('BPN2+3+4',  l_bpn2 + l_bpn3 + l_bpn4)\n",
    "# run_default_exp('BPN1+3+4',  l_bpn1 + l_bpn3 + l_bpn4)\n",
    "\n",
    "\n",
    "# run_default_exp('P9l', ['P9_l']) # P9 unilateral\n",
    "# run_default_exp('P9r', ['P9_r'])\n",
    "\n",
    "# # estimated timel: 40 min"
   ]
  },
  {
   "cell_type": "markdown",
   "metadata": {},
   "source": [
    "## sensory activation"
   ]
  },
  {
   "cell_type": "code",
   "execution_count": null,
   "metadata": {},
   "outputs": [],
   "source": [
    "# bilateral\n",
    "run_default_exp('sugar', l_sugarl + l_sugarr) # sugar\n",
    "run_default_exp('ovidn', l_ovidn) # OviDNs\n",
    "run_default_exp('bitter', l_bitterl + l_bitterr) # bitter\n",
    "run_default_exp('water', l_waterl + l_waterr) # water\n",
    "run_default_exp('joe', l_joe) # JO E\n",
    "run_default_exp('jof', l_jof) # JO F\n",
    "run_default_exp('eye', l_eye) # eye bristle\n",
    "\n",
    "# only right\n",
    "run_default_exp('sugarr',  l_sugarr) # sugar\n",
    "run_default_exp('bitterr', l_bitterr) # bitter\n",
    "run_default_exp('waterr',  l_waterr) # water\n",
    "\n",
    "# only left\n",
    "run_default_exp('sugarl',  l_sugarl) # sugar\n",
    "run_default_exp('bitterl', l_bitterl) # bitter\n",
    "run_default_exp('waterl',  l_waterl) # water\n",
    "\n",
    "# estimated time: 170 min"
   ]
  },
  {
   "cell_type": "markdown",
   "metadata": {},
   "source": [
    "## walk/stop coactivation"
   ]
  },
  {
   "cell_type": "markdown",
   "metadata": {},
   "source": [
    "### P9"
   ]
  },
  {
   "cell_type": "code",
   "execution_count": null,
   "metadata": {},
   "outputs": [],
   "source": [
    "run_default_exp('P9+BB', l_p9 + l_bb) # plus bluebell\n",
    "run_default_exp('P9+FG', l_p9 + l_fg) # plus foxglove\n",
    "run_default_exp('P9+MAN', l_p9 + l_man1) # plus MAN-1\n",
    "run_default_exp('P9+STOP1', l_p9 + l_stop1) # plus foxglove\n",
    "\n",
    "# estimated time: 20 min"
   ]
  },
  {
   "cell_type": "markdown",
   "metadata": {},
   "source": [
    "### MDN"
   ]
  },
  {
   "cell_type": "code",
   "execution_count": null,
   "metadata": {},
   "outputs": [],
   "source": [
    "run_default_exp('MDN+BB', l_mdn + l_bb) # plus bluebell\n",
    "run_default_exp('MDN+FG', l_mdn + l_fg) # plus foxglove\n",
    "run_default_exp('MDN+MAN', l_mdn + l_man1) # plus MAN-1\n",
    "run_default_exp('MDN+STOP1', l_mdn + l_stop1) # plus foxglove\n",
    "\n",
    "# estimated time: 20 min"
   ]
  },
  {
   "cell_type": "markdown",
   "metadata": {},
   "source": [
    "### BPN"
   ]
  },
  {
   "cell_type": "code",
   "execution_count": null,
   "metadata": {},
   "outputs": [],
   "source": [
    "# plus bluebell\n",
    "run_default_exp('BPN+BB',  l_bpn + l_bb)\n",
    "run_default_exp('BPN1+BB', l_bpn1 + l_bb)\n",
    "run_default_exp('BPN2+BB', l_bpn2 + l_bb)\n",
    "run_default_exp('BPN3+BB', l_bpn3 + l_bb)\n",
    "run_default_exp('BPN4+BB', l_bpn4 + l_bb)\n",
    "\n",
    "# plus foxglove\n",
    "run_default_exp('BPN+FG',  l_bpn + l_fg)\n",
    "run_default_exp('BPN1+FG', l_bpn1 + l_fg)\n",
    "run_default_exp('BPN2+FG', l_bpn2 + l_fg)\n",
    "run_default_exp('BPN3+FG', l_bpn3 + l_fg)\n",
    "run_default_exp('BPN4+FG', l_bpn4 + l_fg)\n",
    "\n",
    "# plus MAN-1\n",
    "run_default_exp('BPN+MAN',  l_bpn + l_man1)\n",
    "run_default_exp('BPN1+MAN', l_bpn1 + l_man1)\n",
    "run_default_exp('BPN2+MAN', l_bpn2 + l_man1)\n",
    "run_default_exp('BPN3+MAN', l_bpn3 + l_man1)\n",
    "run_default_exp('BPN4+MAN', l_bpn4 + l_man1)\n",
    "\n",
    "# plus foxglove\n",
    "run_default_exp('BPN+STOP1',  l_bpn + l_stop1)\n",
    "run_default_exp('BPN1+STOP1', l_bpn1 + l_stop1)\n",
    "run_default_exp('BPN2+STOP1', l_bpn2 + l_stop1)\n",
    "run_default_exp('BPN3+STOP1', l_bpn3 + l_stop1)\n",
    "run_default_exp('BPN4+STOP1', l_bpn4 + l_stop1)\n",
    "\n",
    "# estimated time: 110 min"
   ]
  },
  {
   "cell_type": "markdown",
   "metadata": {},
   "source": [
    "### P9 (unilateral)"
   ]
  },
  {
   "cell_type": "code",
   "execution_count": null,
   "metadata": {},
   "outputs": [],
   "source": [
    "# plus bluebell\n",
    "run_default_exp('P9l+BBl', ['P9_l', 'BB_l']) # ipsi\n",
    "run_default_exp('P9r+BBr', ['P9_r', 'BB_r'])\n",
    "run_default_exp('P9l+BBr', ['P9_l', 'BB_r']) # contra\n",
    "run_default_exp('P9r+BBl', ['P9_r', 'BB_l'])\n",
    "\n",
    "# plus foxglove\n",
    "run_default_exp('P9l+FGl', ['P9_l', 'FG_l']) # ipsi\n",
    "run_default_exp('P9r+FGr', ['P9_r', 'FG_r'])\n",
    "run_default_exp('P9l+FGr', ['P9_l', 'FG_r']) # contra\n",
    "run_default_exp('P9r+FGl', ['P9_r', 'FG_l'])\n",
    "\n",
    "# plus MAN-1\n",
    "run_default_exp('P9l+MANl', ['P9_l', 'MAN-1_l']) # ipsi\n",
    "run_default_exp('P9r+MANr', ['P9_r', 'MAN-1_r'])\n",
    "run_default_exp('P9l+MANr', ['P9_l', 'MAN-1_r']) # contra\n",
    "run_default_exp('P9r+MANl', ['P9_r', 'MAN-1_l'])\n",
    "\n",
    "# plus STOP-1\n",
    "run_default_exp('P9l+STOP1l', ['P9_l', 'STOP-1_a_l', 'STOP-1_b_l', 'STOP-1_c_l']) # ipsi\n",
    "run_default_exp('P9r+STOP1r', ['P9_r', 'STOP-1_a_r', 'STOP-1_b_r', 'STOP-1_c_r'])\n",
    "run_default_exp('P9l+STOP1r', ['P9_l', 'STOP-1_a_r', 'STOP-1_b_r', 'STOP-1_c_r']) # contra\n",
    "run_default_exp('P9r+STOP1l', ['P9_r', 'STOP-1_a_l', 'STOP-1_b_l', 'STOP-1_c_l'])\n",
    "\n",
    "# estimated time: 60 min"
   ]
  },
  {
   "cell_type": "markdown",
   "metadata": {},
   "source": [
    "## walk/walk coactivation"
   ]
  },
  {
   "cell_type": "code",
   "execution_count": null,
   "metadata": {},
   "outputs": [],
   "source": [
    "# P9 plus MDN\n",
    "run_default_exp('P9+MDN', l_p9 + l_mdn)\n",
    "\n",
    "# P9 plus BPN \n",
    "run_default_exp('P9+BPN', l_p9 + l_bpn)\n",
    "run_default_exp('P9+BPN1', l_p9 + l_bpn1)\n",
    "run_default_exp('P9+BPN2', l_p9 + l_bpn2)\n",
    "run_default_exp('P9+BPN3', l_p9 + l_bpn3)\n",
    "run_default_exp('P9+BPN4', l_p9 + l_bpn4)\n",
    "\n",
    "# MDN plus BPN\n",
    "run_default_exp('MDN+BPN', l_mdn + l_bpn)\n",
    "run_default_exp('MDN+BPN1', l_mdn + l_bpn1)\n",
    "run_default_exp('MDN+BPN2', l_mdn + l_bpn2)\n",
    "run_default_exp('MDN+BPN3', l_mdn + l_bpn3)\n",
    "run_default_exp('MDN+BPN4', l_mdn + l_bpn4)\n",
    "\n",
    "# estimated time: 70 min"
   ]
  },
  {
   "cell_type": "markdown",
   "metadata": {},
   "source": [
    "## sensory/walk coactivation"
   ]
  },
  {
   "cell_type": "markdown",
   "metadata": {},
   "source": [
    "### sugar"
   ]
  },
  {
   "cell_type": "code",
   "execution_count": null,
   "metadata": {},
   "outputs": [],
   "source": [
    "# right side\n",
    "run_default_exp('sugarr+P9', l_sugarr + l_p9)     # P9\n",
    "run_default_exp('sugarr+MDN', l_sugarr + l_mdn)   # MDN\n",
    "run_default_exp('sugarr+BPN', l_sugarr + l_bpn) # BPN\n",
    "run_default_exp('sugarr+BPN1', l_sugarr + l_bpn1) # BPN type 1\n",
    "run_default_exp('sugarr+BPN2', l_sugarr + l_bpn2) #     type 2\n",
    "run_default_exp('sugarr+BPN3', l_sugarr + l_bpn3) #     type 3\n",
    "run_default_exp('sugarr+BPN4', l_sugarr + l_bpn4) #     type 4\n",
    "\n",
    "# bilateral (incomplete)\n",
    "run_default_exp('sugar+P9', l_sugarr + l_sugarl + l_p9)     # P9\n",
    "run_default_exp('sugar+MDN', l_sugarr + l_sugarl + l_mdn)   # MDN\n",
    "run_default_exp('sugar+BPN', l_sugarr + l_sugarl + l_bpn) # BPN\n",
    "run_default_exp('sugar+BPN1', l_sugarr + l_sugarl + l_bpn1) # BPN type 1\n",
    "run_default_exp('sugar+BPN2', l_sugarr + l_sugarl + l_bpn2) #     type 2\n",
    "run_default_exp('sugar+BPN3', l_sugarr + l_sugarl + l_bpn3) #     type 3\n",
    "run_default_exp('sugar+BPN4', l_sugarr + l_sugarl + l_bpn4) #     type 4\n",
    "\n",
    "# estimated time: 130 min"
   ]
  },
  {
   "cell_type": "markdown",
   "metadata": {},
   "source": [
    "### water"
   ]
  },
  {
   "cell_type": "code",
   "execution_count": null,
   "metadata": {},
   "outputs": [],
   "source": [
    "# right side\n",
    "run_default_exp('waterr+P9', l_waterr + l_p9)     # P9\n",
    "run_default_exp('waterr+MDN', l_waterr + l_mdn)   # MDN\n",
    "run_default_exp('waterr+BPN', l_waterr + l_bpn)   # BPN \n",
    "run_default_exp('waterr+BPN1', l_waterr + l_bpn1) #     type 1\n",
    "run_default_exp('waterr+BPN2', l_waterr + l_bpn2) #     type 2\n",
    "run_default_exp('waterr+BPN3', l_waterr + l_bpn3) #     type 3\n",
    "run_default_exp('waterr+BPN4', l_waterr + l_bpn4) #     type 4\n",
    "\n",
    "# bilateral (incomplete)\n",
    "run_default_exp('water+P9', l_waterr + l_waterl + l_p9)     # P9\n",
    "run_default_exp('water+MDN', l_waterr + l_waterl + l_mdn)   # MDN\n",
    "run_default_exp('water+BPN', l_waterr + l_waterl + l_bpn)   # BPN \n",
    "run_default_exp('water+BPN1', l_waterr + l_waterl + l_bpn1) #     type 1\n",
    "run_default_exp('water+BPN2', l_waterr + l_waterl + l_bpn2) #     type 2\n",
    "run_default_exp('water+BPN3', l_waterr + l_waterl + l_bpn3) #     type 3\n",
    "run_default_exp('water+BPN4', l_waterr + l_waterl + l_bpn4) #     type 4\n",
    "\n",
    "\n",
    "# estimated time: 130 min"
   ]
  },
  {
   "cell_type": "markdown",
   "metadata": {},
   "source": [
    "### bitter"
   ]
  },
  {
   "cell_type": "code",
   "execution_count": null,
   "metadata": {},
   "outputs": [],
   "source": [
    "# right side\n",
    "run_default_exp('bitterr+P9', l_bitterr + l_p9)     # P9\n",
    "run_default_exp('bitterr+MDN', l_bitterr + l_mdn)   # MDN\n",
    "run_default_exp('bitterr+BPN', l_bitterr + l_bpn)   # BPN \n",
    "run_default_exp('bitterr+BPN1', l_bitterr + l_bpn1) #     type 1\n",
    "run_default_exp('bitterr+BPN2', l_bitterr + l_bpn2) #     type 2\n",
    "run_default_exp('bitterr+BPN3', l_bitterr + l_bpn3) #     type 3\n",
    "run_default_exp('bitterr+BPN4', l_bitterr + l_bpn4) #     type 4\n",
    "\n",
    "# bilateral (incomplete)\n",
    "run_default_exp('bitter+P9', l_bitterr + l_bitterl + l_p9)     # P9\n",
    "run_default_exp('bitter+MDN', l_bitterr + l_bitterl + l_mdn)   # MDN\n",
    "run_default_exp('bitter+BPN', l_bitterr + l_bitterl + l_bpn)   # BPN \n",
    "run_default_exp('bitter+BPN1', l_bitterr + l_bitterl + l_bpn1) #     type 1\n",
    "run_default_exp('bitter+BPN2', l_bitterr + l_bitterl + l_bpn2) #     type 2\n",
    "run_default_exp('bitter+BPN3', l_bitterr + l_bitterl + l_bpn3) #     type 3\n",
    "run_default_exp('bitter+BPN4', l_bitterr + l_bitterl + l_bpn4) #     type 4\n",
    "\n",
    "# estimated time: 120 min "
   ]
  },
  {
   "cell_type": "markdown",
   "metadata": {},
   "source": [
    "### OviDNs"
   ]
  },
  {
   "cell_type": "code",
   "execution_count": null,
   "metadata": {},
   "outputs": [],
   "source": [
    "run_default_exp('ovidn+P9', l_ovidn + l_p9)     # P9\n",
    "run_default_exp('ovidn+MDN', l_ovidn + l_mdn)   # MDN\n",
    "run_default_exp('ovidn+BPN', l_ovidn + l_bpn)   # BPN \n",
    "run_default_exp('ovidn+BPN1', l_ovidn + l_bpn1) #     type 1\n",
    "run_default_exp('ovidn+BPN2', l_ovidn + l_bpn2) #     type 2\n",
    "run_default_exp('ovidn+BPN3', l_ovidn + l_bpn3) #     type 3\n",
    "run_default_exp('ovidn+BPN4', l_ovidn + l_bpn4) #     type 4\n",
    "\n",
    "# esimated time: 50 min"
   ]
  },
  {
   "cell_type": "markdown",
   "metadata": {},
   "source": [
    "### JO"
   ]
  },
  {
   "cell_type": "code",
   "execution_count": null,
   "metadata": {},
   "outputs": [],
   "source": [
    "# JO E\n",
    "run_default_exp('joe+P9', l_joe + l_p9)     # P9\n",
    "run_default_exp('joe+MDN', l_joe + l_mdn)   # MDN\n",
    "run_default_exp('joe+BPN', l_joe + l_bpn)   # BPN\n",
    "run_default_exp('joe+BPN1', l_joe + l_bpn1) #     type 1\n",
    "run_default_exp('joe+BPN2', l_joe + l_bpn2) #     type 2\n",
    "run_default_exp('joe+BPN3', l_joe + l_bpn3) #     type 3\n",
    "run_default_exp('joe+BPN4', l_joe + l_bpn4) #     type 4\n",
    "\n",
    "# JO F\n",
    "run_default_exp('jof+P9', l_jof + l_p9)     # P9\n",
    "run_default_exp('jof+MDN', l_jof + l_mdn)   # MDN\n",
    "run_default_exp('jof+BPN', l_jof + l_bpn)   # BPN \n",
    "run_default_exp('jof+BPN1', l_jof + l_bpn1) #     type 1\n",
    "run_default_exp('jof+BPN2', l_jof + l_bpn2) #     type 2\n",
    "run_default_exp('jof+BPN3', l_jof + l_bpn3) #     type 3\n",
    "run_default_exp('jof+BPN4', l_jof + l_bpn4) #     type 4\n",
    "\n",
    "# estimated time: 180 min"
   ]
  },
  {
   "cell_type": "markdown",
   "metadata": {},
   "source": [
    "### Eye bristle"
   ]
  },
  {
   "cell_type": "code",
   "execution_count": null,
   "metadata": {},
   "outputs": [],
   "source": [
    "# eye bristle\n",
    "run_default_exp('eye+P9', l_eye + l_p9)     # P9\n",
    "run_default_exp('eye+MDN', l_eye + l_mdn)   # MDN\n",
    "run_default_exp('eye+BPN', l_eye + l_bpn)   # BPN\n",
    "run_default_exp('eye+BPN1', l_eye + l_bpn1) #     type 1\n",
    "run_default_exp('eye+BPN2', l_eye + l_bpn2) #     type 2\n",
    "run_default_exp('eye+BPN3', l_eye + l_bpn3) #     type 3\n",
    "run_default_exp('eye+BPN4', l_eye + l_bpn4) #     type 4\n",
    "\n",
    "# estimated time: 610 min"
   ]
  }
 ],
 "metadata": {
  "kernelspec": {
   "display_name": "Python 3.10.6 ('brian2')",
   "language": "python",
   "name": "python3"
  },
  "language_info": {
   "codemirror_mode": {
    "name": "ipython",
    "version": 3
   },
   "file_extension": ".py",
   "mimetype": "text/x-python",
   "name": "python",
   "nbconvert_exporter": "python",
   "pygments_lexer": "ipython3",
   "version": "3.10.6"
  },
  "orig_nbformat": 4,
  "vscode": {
   "interpreter": {
    "hash": "f712171cd029edbbd692b0a936868c14f87f303b10b4c999b2c120d80f113a52"
   }
  }
 },
 "nbformat": 4,
 "nbformat_minor": 2
}
