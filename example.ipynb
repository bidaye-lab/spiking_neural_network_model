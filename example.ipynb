{
 "cells": [
  {
   "cell_type": "code",
   "execution_count": null,
   "metadata": {},
   "outputs": [],
   "source": [
    "%load_ext autoreload\n",
    "%autoreload 2\n",
    "from model import run_exp\n",
    "import utils as utl\n",
    "from dataAPI import runAPIcall"
   ]
  },
  {
   "attachments": {},
   "cell_type": "markdown",
   "metadata": {},
   "source": [
    "# computational set up\n",
    "Choose One:\n",
    "## Flywire"
   ]
  },
  {
   "cell_type": "code",
   "execution_count": null,
   "metadata": {},
   "outputs": [],
   "source": [
    "# # Set Up Environment for Flywire Data and Setting Path for Custon Neuron Names\n",
    "# path_comp = './Flywire_Data/2023_03_23_completeness_630_final.csv'\n",
    "# path_con = './Flywire_Data/2023_03_23_connectivity_630_final.parquet'\n",
    "# path_res = './results/example/'\n",
    "# path_name = './Flywire_Data/flywire_ids_630.xlsx'\n",
    "\n",
    "# # sheet names of the xls file to include\n",
    "# sheets_pair = [ # pair of neurons (left+right per row)\n",
    "#     'stop',\n",
    "#     'walk',\n",
    "#     'walk_outputs',\n",
    "#     ]\n",
    "\n",
    "# sheets_single = [ # single neurons (one per row)\n",
    "#     # 'sugar', \n",
    "#     # 'ovidn', \n",
    "#     # 'bitter', \n",
    "#     ]\n",
    "\n",
    "# name2flyid = utl.create_name_dict(path_name, path_comp, sheets_pair, sheets_single)\n"
   ]
  },
  {
   "cell_type": "markdown",
   "metadata": {},
   "source": [
    "## MANC"
   ]
  },
  {
   "cell_type": "code",
   "execution_count": null,
   "metadata": {},
   "outputs": [],
   "source": [
    "# Set Up Environment for MANC Data and Setting Path for Custon Neuron Names\n",
    "path_comp = './MANC_Data/2023_06_06_completeness_1.0_final.csv'\n",
    "path_con = './MANC_Data/2023_06_06_connectivity_1.0_final.parquet'\n",
    "path_res = './results/example/'\n",
    "path_name = './MANC_Data/MANC_ids_1.0.xlsx'\n",
    "\n",
    "config = {\n",
    "    'path_comp'         : path_comp, \n",
    "    'path_con'          : path_con, \n",
    "    'path_res'          : path_res,     # store results here\n",
    "    'n_proc'            : 1,            # number of CPUs to use, -1 uses all available CPU\n",
    "}\n",
    "\n",
    "# sheet names of the xls file to include\n",
    "sheets_pair = [ # pair of neurons (left+right per row)\n",
    "    'stop1-type', \n",
    "    'walk', \n",
    "    'walk_outputs', \n",
    "    'stop-1 outputs', \n",
    "    'walk_inputs', \n",
    "    ]\n",
    "\n",
    "sheets_single = [ # single neurons (one per row)\n",
    "    'Pleural_remotor_abductor', \n",
    "    'Sternal_posterior_rotator', \n",
    "    'Tergopleural_Pleural promotor', \n",
    "    'Sternal_anterior_rotator', \n",
    "    'Sternal_adductor', \n",
    "    'Sternotrochanter', \n",
    "    'Tergotr', \n",
    "    'Tr_extensor', \n",
    "    'Tr_flexor', \n",
    "    'Acc_tr_flexor', \n",
    "    'Fe_reductor', \n",
    "    'Ti_extensor', \n",
    "    'Acc_Ti_flexor', \n",
    "    'Ti_flexor', \n",
    "    'LTM', \n",
    "    'Ta_depressor ', \n",
    "    'Ta_levator'\n",
    "    ]\n",
    "\n",
    "\n",
    "name2flyid = utl.create_name_dict(path_name, path_comp, sheets_pair, sheets_single)"
   ]
  },
  {
   "cell_type": "code",
   "execution_count": null,
   "metadata": {},
   "outputs": [],
   "source": [
    "# lists of neuron groups\n",
    "l_hind = ['hind_l','hind_r']\n",
    "l_mid = ['mid_l','mid_r']\n",
    "l_front = ['front_l','front_r',]"
   ]
  },
  {
   "attachments": {},
   "cell_type": "markdown",
   "metadata": {},
   "source": [
    "# run experiments"
   ]
  },
  {
   "cell_type": "code",
   "execution_count": null,
   "metadata": {},
   "outputs": [],
   "source": [
    "# Hind, Mid, Rear Activation\n",
    "instructions = [ \n",
    "    (0, 'stim', l_hind),\n",
    "    (0, 'stim', l_mid), \n",
    "    (0, 'stim', l_front), \n",
    "    (1, 'end', [])\n",
    "    ]\n",
    "\n",
    "run_exp(exp_name='all-stim', exp_inst=instructions, name2flyid=name2flyid, **config, force_overwrite=True)"
   ]
  },
  {
   "cell_type": "code",
   "execution_count": null,
   "metadata": {},
   "outputs": [],
   "source": [
    "# Hind Activation, Mid and Front Silencing\n",
    "instructions = [ \n",
    "    (0, 'stim', l_hind),\n",
    "    (1, 'end', [])\n",
    "    ]\n",
    "\n",
    "run_exp(exp_name='hind-stim', exp_inst=instructions, name2flyid=name2flyid, **config, force_overwrite=True)"
   ]
  },
  {
   "cell_type": "code",
   "execution_count": null,
   "metadata": {},
   "outputs": [],
   "source": [
    "#Mid Activation, Hind and Front Silencing\n",
    "instructions = [ \n",
    "    (0, 'stim', l_mid), \n",
    "    (1, 'end', [])\n",
    "    ]\n",
    "\n",
    "run_exp(exp_name='mid-stim', exp_inst=instructions, name2flyid=name2flyid, **config, force_overwrite=True)"
   ]
  },
  {
   "cell_type": "code",
   "execution_count": null,
   "metadata": {},
   "outputs": [],
   "source": [
    "#Front Activation, Mid and Hind Silencing\n",
    "instructions = [ \n",
    "    (0, 'stim', l_front), \n",
    "    (1, 'end', [])\n",
    "    ]\n",
    "\n",
    "run_exp(exp_name='front-stim', exp_inst=instructions, name2flyid=name2flyid, **config, force_overwrite=True)"
   ]
  },
  {
   "attachments": {},
   "cell_type": "markdown",
   "metadata": {},
   "source": [
    "# Process results"
   ]
  },
  {
   "cell_type": "code",
   "execution_count": null,
   "metadata": {},
   "outputs": [],
   "source": [
    "# load experiments\n",
    "outputs = [\n",
    "    './results/example/all-stim.parquet',\n",
    "    './results/example/hind-stim.parquet',\n",
    "    './results/example/mid-stim.parquet',\n",
    "    './results/example/front-stim.parquet'\n",
    "]\n",
    "\n",
    "df_spkt = utl.load_exps(outputs)\n",
    "df_rate, df_std = utl.get_rate(df_spkt, duration=1)\n",
    "\n",
    "df_rate = utl.rename_index(df_rate, name2flyid)\n",
    "df_std = utl.rename_index(df_std, name2flyid)\n",
    "\n",
    "utl.save_xls(df_rate, './results/example/rate.xlsx')\n",
    "utl.save_xls(df_std, './results/example/rate_std.xlsx')"
   ]
  },
  {
   "cell_type": "code",
   "execution_count": null,
   "metadata": {},
   "outputs": [],
   "source": [
    "# raster plots\n",
    "neu = l_hind + l_mid + l_front\n",
    "utl.plot_raster(df_spkt, neu, name2flyid=name2flyid, xlims=(0, 1))"
   ]
  },
  {
   "cell_type": "code",
   "execution_count": null,
   "metadata": {},
   "outputs": [],
   "source": [
    "# firing rates\n",
    "utl.plot_rate(df_spkt, neu, xlims=(0, 1), name2flyid=name2flyid)"
   ]
  },
  {
   "cell_type": "code",
   "execution_count": null,
   "metadata": {},
   "outputs": [],
   "source": [
    "# select top 20 neurons\n",
    "top20 = df_rate.sort_values(by='front-stim', ascending=False).head(20)\n",
    "top20"
   ]
  },
  {
   "cell_type": "code",
   "execution_count": null,
   "metadata": {},
   "outputs": [],
   "source": [
    "# plot heatmap\n",
    "utl.plot_rate_heatmap(df_spkt, top20.index, xlims=(0, 1), name2flyid=name2flyid, do_zscore=False)"
   ]
  },
  {
   "attachments": {},
   "cell_type": "markdown",
   "metadata": {},
   "source": [
    "# Graph representation"
   ]
  },
  {
   "cell_type": "code",
   "execution_count": null,
   "metadata": {},
   "outputs": [],
   "source": [
    "# load connectome into graph\n",
    "G = utl.get_full_graph(path_comp, path_con)\n",
    "print(len(G.nodes))"
   ]
  },
  {
   "cell_type": "code",
   "execution_count": null,
   "metadata": {},
   "outputs": [],
   "source": [
    "# select subgraph based on simulation results\n",
    "output = './results/example/front-stim.parquet'\n",
    "utl.write_graph(G, output, name2flyid=name2flyid)"
   ]
  }
 ],
 "metadata": {
  "kernelspec": {
   "display_name": "brian2",
   "language": "python",
   "name": "python3"
  },
  "language_info": {
   "codemirror_mode": {
    "name": "ipython",
    "version": 3
   },
   "file_extension": ".py",
   "mimetype": "text/x-python",
   "name": "python",
   "nbconvert_exporter": "python",
   "pygments_lexer": "ipython3",
   "version": "3.11.4"
  },
  "orig_nbformat": 4
 },
 "nbformat": 4,
 "nbformat_minor": 2
}
