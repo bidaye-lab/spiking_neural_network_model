{
 "cells": [
  {
   "cell_type": "markdown",
   "metadata": {},
   "source": [
    "# Run API Call"
   ]
  },
  {
   "cell_type": "code",
   "execution_count": 1,
   "metadata": {},
   "outputs": [],
   "source": [
    "#Import function runAPIcall from dataAPI.py file\n",
    "from dataAPI import runAPIcall\n"
   ]
  },
  {
   "cell_type": "code",
   "execution_count": null,
   "metadata": {},
   "outputs": [],
   "source": [
    "# Run API Call to get MANC v1.0 Connectome Data\n",
    "AuthenticationToken = \"YOUR_AUTH_TOKEN\"\n",
    "runAPIcall(AuthenticationToken)"
   ]
  }
 ],
 "metadata": {
  "kernelspec": {
   "display_name": "brian2_test",
   "language": "python",
   "name": "python3"
  },
  "language_info": {
   "codemirror_mode": {
    "name": "ipython",
    "version": 3
   },
   "file_extension": ".py",
   "mimetype": "text/x-python",
   "name": "python",
   "nbconvert_exporter": "python",
   "pygments_lexer": "ipython3",
   "version": "3.11.4"
  },
  "orig_nbformat": 4
 },
 "nbformat": 4,
 "nbformat_minor": 2
}
